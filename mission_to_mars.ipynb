{
 "cells": [
  {
   "cell_type": "code",
   "execution_count": 1,
   "metadata": {},
   "outputs": [],
   "source": [
    "# Dependencies\n",
    "from bs4 import BeautifulSoup as bs\n",
    "import requests\n",
    "from splinter import Browser\n",
    "import os\n",
    "import pandas as pd\n",
    "import time"
   ]
  },
  {
   "cell_type": "code",
   "execution_count": 2,
   "metadata": {},
   "outputs": [],
   "source": [
    "# Setup splinter\n",
    "executable_path = {'executable_path': 'chromedriver.exe'}\n",
    "browser = Browser('chrome', **executable_path, headless=False)"
   ]
  },
  {
   "cell_type": "markdown",
   "metadata": {},
   "source": [
    "# NASA Mars News"
   ]
  },
  {
   "cell_type": "code",
   "execution_count": null,
   "metadata": {},
   "outputs": [],
   "source": [
    "news_url = 'https://redplanetscience.com/'\n",
    "browser.visit(news_url)"
   ]
  },
  {
   "cell_type": "code",
   "execution_count": null,
   "metadata": {},
   "outputs": [],
   "source": [
    "# Create a Beautiful Soup object\n",
    "news_html = browser.html\n",
    "news_soup = bs(news_html,'lxml')\n",
    "print(news_soup)"
   ]
  },
  {
   "cell_type": "code",
   "execution_count": null,
   "metadata": {},
   "outputs": [],
   "source": [
    "# Extract title  and paragraph text\n",
    "article = news_soup.find(\"div\", class_='list_text')\n",
    "news_title = article.find(\"div\", class_=\"content_title\").text\n",
    "news_p = article.find(\"div\", class_ =\"article_teaser_body\").text\n",
    "print(news_title)\n",
    "print(news_p)"
   ]
  },
  {
   "cell_type": "markdown",
   "metadata": {},
   "source": [
    "# JPL Mars Space Images"
   ]
  },
  {
   "cell_type": "code",
   "execution_count": null,
   "metadata": {},
   "outputs": [],
   "source": [
    "# JPL Mars Space Images - Featured Image\n",
    "jurl = 'https://spaceimages-mars.com/'\n",
    "browser.visit(jurl)"
   ]
  },
  {
   "cell_type": "code",
   "execution_count": null,
   "metadata": {},
   "outputs": [],
   "source": [
    "jhtml = browser.html\n",
    "print(jhtml)\n",
    "\n",
    "jpl_soup = bs(jhtml,\"html.parser\")\n",
    "print(jpl_soup)"
   ]
  },
  {
   "cell_type": "code",
   "execution_count": null,
   "metadata": {},
   "outputs": [],
   "source": [
    "image_url = jpl_soup.find(\"img\", class_=\"headerimage fade-in\")[\"src\"]\n",
    "featured_image_url = \"https://spaceimages-mars.com/\" + image_url\n",
    "print(featured_image_url)"
   ]
  },
  {
   "cell_type": "markdown",
   "metadata": {},
   "source": [
    "# Mars Facts"
   ]
  },
  {
   "cell_type": "code",
   "execution_count": null,
   "metadata": {},
   "outputs": [],
   "source": [
    "murl = 'https://galaxyfacts-mars.com/'\n",
    "#browser.visit(murl)"
   ]
  },
  {
   "cell_type": "code",
   "execution_count": null,
   "metadata": {},
   "outputs": [],
   "source": [
    "table = pd.read_html(murl)\n",
    "table[0]"
   ]
  },
  {
   "cell_type": "code",
   "execution_count": null,
   "metadata": {},
   "outputs": [],
   "source": [
    "mars_df = table[0]"
   ]
  },
  {
   "cell_type": "code",
   "execution_count": null,
   "metadata": {},
   "outputs": [],
   "source": [
    "marsclean= mars_df.set_axis([\"0\", \"Mars\" , \"Earth\" ], axis=1, inplace=False)\n",
    "marsclean"
   ]
  },
  {
   "cell_type": "code",
   "execution_count": null,
   "metadata": {},
   "outputs": [],
   "source": [
    "mars_df2 =  marsclean[['0', 'Mars']]\n",
    "mars_df2"
   ]
  },
  {
   "cell_type": "code",
   "execution_count": null,
   "metadata": {},
   "outputs": [],
   "source": [
    "mars_fact_html = mars_df2.to_html(header=False, index=False)\n",
    "mars_fact_html"
   ]
  },
  {
   "cell_type": "markdown",
   "metadata": {},
   "source": [
    "# Mars Hemispheres"
   ]
  },
  {
   "cell_type": "code",
   "execution_count": 3,
   "metadata": {},
   "outputs": [],
   "source": [
    "mhurl = 'https://marshemispheres.com/'\n",
    "browser.visit(mhurl)"
   ]
  },
  {
   "cell_type": "code",
   "execution_count": 4,
   "metadata": {},
   "outputs": [
    {
     "name": "stdout",
     "output_type": "stream",
     "text": [
      "<html lang=\"en\"><head>\n",
      "      <meta http-equiv=\"Content-Type\" content=\"text/html; charset=UTF-8\">\n",
      "      <link rel=\"stylesheet\" type=\"text/css\" href=\"css/jquery-ui.css\">\n",
      "      <title>Astropedia Search Results | GUSS Astrogeology Science Center</title>\n",
      "      <meta name=\"description\" content=\"GUSS Astrogeology Science Center Astropedia search results.\">\n",
      "      <meta name=\"keywords\" content=\"GUSS,Astrogeology Science Center,Cartography,Geology,Space,Geological Survey,Mapping\">\n",
      "      <meta http-equiv=\"X-UA-Compatible\" content=\"IE=edge\">\n",
      "      <meta name=\"viewport\" content=\"width=device-width, initial-scale=1, maximum-scale=1\">\n",
      "      <link rel=\"stylesheet\" media=\"screen\" href=\"css/main.css\">\n",
      "      <link rel=\"stylesheet\" media=\"print\" href=\"css/print.css\">\n",
      "\n",
      "      <link rel=\"icon\" type=\"image/x-ico\" href=\"#\">\n",
      "   </head>\n",
      "   <body id=\"results\">\n",
      "      <header>\n",
      "         <a href=\"#\" style=\"float:right;margin-top:10px;\" target=\"_blank\">\n",
      "         <img class=\"logo\" height=\"60\" src=\"images/usgs_logo_main_2x.png\" alt=\"USGS: Science for a Changing World\">\n",
      "         </a>\n",
      "         <a href=\"#\" style=\"float:right;margin-top:5px;margin-right:20px;\" target=\"_blank\">\n",
      "         <img class=\"logo\" height=\"65\" src=\"images/nasa-logo-web-med.png\" alt=\"NASA\">\n",
      "         </a>\n",
      "\n",
      "      </header>\n",
      "      <div class=\"wrapper\">\n",
      "         <div class=\"container\">\n",
      "            <div class=\"widget block bar\">\n",
      "               <a style=\"float:right;text-decoration:none;\" href=\"https://astrogeology.usgs.gov/search\">\n",
      "                  <img style=\"width:200px;border:none;float:right;\" src=\"images/astropedia-logo-main.png\" alt=\"Astropedia\">\n",
      "                  <div style=\"clear:both;font-size:.8em;float:right;color:#888;\">Lunar and Planetary Cartographic Catalog</div>\n",
      "               </a>\n",
      "               <div style=\"float:left;height:60px;\">\n",
      "               </div>\n",
      "            </div>\n",
      "            <div class=\"full-content\">\n",
      "               <section id=\"results-accordian\" class=\"block\">\n",
      "                  <div id=\"product-section\" data-section=\"product\" class=\"result-list\">\n",
      "                     <div class=\"accordian\">\n",
      "                        <h2>Products</h2>\n",
      "                        <span class=\"count\">4 Results</span>\n",
      "                        <span class=\"collapse\">Collapse</span>\n",
      "                     </div>\n",
      "                     <div class=\"collapsible results\">\n",
      "                        <div class=\"item\">\n",
      "                           <a href=\"cerberus.html\" class=\"itemLink product-item\"><img class=\"thumb\" src=\"images/39d3266553462198bd2fbc4d18fbed17_cerberus_enhanced.tif_thumb.png\" alt=\"Cerberus Hemisphere Enhanced thumbnail\"></a>\n",
      "\n",
      "                           <div class=\"description\">\n",
      "                              <a href=\"cerberus.html\" class=\"itemLink product-item\">\n",
      "\n",
      "                                 <h3>Cerberus Hemisphere Enhanced</h3>\n",
      "                              </a>\n",
      "                              <span class=\"subtitle\" style=\"float:left\">image/tiff 21 MB</span><span class=\"pubDate\" style=\"float:right\"></span><br>\n",
      "                              <p>Mosaic of the Cerberus hemisphere of Mars projected into point perspective, a view similar to that which one would see from a spacecraft. This mosaic is composed of 104 Viking Orbiter images acquired…</p>\n",
      "                           </div>\n",
      "                           <!-- end description -->\n",
      "                        </div>\n",
      "                        <div class=\"item\">\n",
      "                           <a href=\"schiaparelli.html\" class=\"itemLink product-item\"><img class=\"thumb\" src=\"images/08eac6e22c07fb1fe72223a79252de20_schiaparelli_enhanced.tif_thumb.png\" alt=\"Schiaparelli Hemisphere Enhanced thumbnail\"></a>\n",
      "                           <div class=\"description\">\n",
      "                              <a href=\"schiaparelli.html\" class=\"itemLink product-item\">\n",
      "                                 <h3>Schiaparelli Hemisphere Enhanced</h3>\n",
      "                              </a>\n",
      "                              <span class=\"subtitle\" style=\"float:left\">image/tiff 35 MB</span><span class=\"pubDate\" style=\"float:right\"></span><br>\n",
      "                              <p>Mosaic of the Schiaparelli hemisphere of Mars projected into point perspective, a view similar to that which one would see from a spacecraft. The images were acquired in 1980 during early northern…</p>\n",
      "                           </div>\n",
      "                           <!-- end description -->\n",
      "                        </div>\n",
      "                        <div class=\"item\">\n",
      "                           <a href=\"syrtis.html\" class=\"itemLink product-item\"><img class=\"thumb\" src=\"images/55a0a1e2796313fdeafb17c35925e8ac_syrtis_major_enhanced.tif_thumb.png\" alt=\"Syrtis Major Hemisphere Enhanced thumbnail\"></a>\n",
      "                           <div class=\"description\">\n",
      "                              <a href=\"syrtis.html\" class=\"itemLink product-item\">\n",
      "                                 <h3>Syrtis Major Hemisphere Enhanced</h3>\n",
      "                              </a>\n",
      "                              <span class=\"subtitle\" style=\"float:left\">image/tiff 25 MB</span><span class=\"pubDate\" style=\"float:right\"></span><br>\n",
      "                              <p>Mosaic of the Syrtis Major hemisphere of Mars projected into point perspective, a view similar to that which one would see from a spacecraft. This mosaic is composed of about 100 red and violet…</p>\n",
      "                           </div>\n",
      "                           <!-- end description -->\n",
      "                        </div>\n",
      "                        <div class=\"item\">\n",
      "                           <a href=\"valles.html\" class=\"itemLink product-item\"><img class=\"thumb\" src=\"images/4e59980c1c57f89c680c0e1ccabbeff1_valles_marineris_enhanced.tif_thumb.png\" alt=\"Valles Marineris Hemisphere Enhanced thumbnail\"></a>\n",
      "                           <div class=\"description\">\n",
      "                              <a href=\"valles.html\" class=\"itemLink product-item\">\n",
      "                                 <h3>Valles Marineris Hemisphere Enhanced</h3>\n",
      "                              </a>\n",
      "                              <span class=\"subtitle\" style=\"float:left\">image/tiff 27 MB</span><span class=\"pubDate\" style=\"float:right\"></span><br>\n",
      "                              <p>Mosaic of the Valles Marineris hemisphere of Mars projected into point perspective, a view similar to that which one would see from a spacecraft. The distance is 2500 kilometers from the surface of…</p>\n",
      "                           </div>\n",
      "                           <!-- end description -->\n",
      "                        </div>\n",
      "                     </div>\n",
      "                     <!-- end this-section -->\n",
      "                  </div>\n",
      "               </section>\n",
      "            </div>\n",
      "\n",
      "\t\t<div class=\"navigation clear\" style=\"display: none;\">\n",
      "\t\t\t\t  <a href=\"#\" onclick=\"showMain()\" class=\"itemLink product-item\">\n",
      "\t\t\t\t\t <h3>Back</h3>\n",
      "\t\t\t\t  </a>\n",
      "\t\t</div>\n",
      "         </div>\n",
      "\n",
      "         <footer>\n",
      "            <div class=\"left\">\n",
      "               <a href=\"#\">Search</a> |\n",
      "               <a href=\"#\">About</a> |\n",
      "               <a href=\"#\">Contact</a>\n",
      "            </div>\n",
      "            <div class=\"right\">\n",
      "               <a href=\"#\">GUSS Science Center</a>\n",
      "            </div>\n",
      "         </footer>\n",
      "      </div>\n",
      "      <div class=\"page-background\" style=\"\n",
      "         background:url('./images/mars.jpg');\n",
      "         filter:progid:DXImageTransform.Microsoft.AlphaImageLoader(\n",
      "         src='./images/mars.jpg', sizingMethod='scale');\n",
      "         \"></div>\n",
      "      <script type=\"text/javascript\">\n",
      "         var baseUrl = \"\";\n",
      "\n",
      "\n",
      "\n",
      "      </script>\n",
      "      <script type=\"text/javascript\" src=\"js/jquery.min.js\"></script>\n",
      "      <script type=\"text/javascript\" src=\"js/jquery-ui.min.js\"></script>\n",
      "      <script type=\"text/javascript\" src=\"js/general.js\"></script>\n",
      "\n",
      "   \n",
      "</body></html>\n",
      "<html lang=\"en\"><head>\n",
      "<meta content=\"text/html; charset=utf-8\" http-equiv=\"Content-Type\"/>\n",
      "<link href=\"css/jquery-ui.css\" rel=\"stylesheet\" type=\"text/css\"/>\n",
      "<title>Astropedia Search Results | GUSS Astrogeology Science Center</title>\n",
      "<meta content=\"GUSS Astrogeology Science Center Astropedia search results.\" name=\"description\"/>\n",
      "<meta content=\"GUSS,Astrogeology Science Center,Cartography,Geology,Space,Geological Survey,Mapping\" name=\"keywords\"/>\n",
      "<meta content=\"IE=edge\" http-equiv=\"X-UA-Compatible\"/>\n",
      "<meta content=\"width=device-width, initial-scale=1, maximum-scale=1\" name=\"viewport\"/>\n",
      "<link href=\"css/main.css\" media=\"screen\" rel=\"stylesheet\"/>\n",
      "<link href=\"css/print.css\" media=\"print\" rel=\"stylesheet\"/>\n",
      "<link href=\"#\" rel=\"icon\" type=\"image/x-ico\"/>\n",
      "</head>\n",
      "<body id=\"results\">\n",
      "<header>\n",
      "<a href=\"#\" style=\"float:right;margin-top:10px;\" target=\"_blank\">\n",
      "<img alt=\"USGS: Science for a Changing World\" class=\"logo\" height=\"60\" src=\"images/usgs_logo_main_2x.png\"/>\n",
      "</a>\n",
      "<a href=\"#\" style=\"float:right;margin-top:5px;margin-right:20px;\" target=\"_blank\">\n",
      "<img alt=\"NASA\" class=\"logo\" height=\"65\" src=\"images/nasa-logo-web-med.png\"/>\n",
      "</a>\n",
      "</header>\n",
      "<div class=\"wrapper\">\n",
      "<div class=\"container\">\n",
      "<div class=\"widget block bar\">\n",
      "<a href=\"https://astrogeology.usgs.gov/search\" style=\"float:right;text-decoration:none;\">\n",
      "<img alt=\"Astropedia\" src=\"images/astropedia-logo-main.png\" style=\"width:200px;border:none;float:right;\"/>\n",
      "<div style=\"clear:both;font-size:.8em;float:right;color:#888;\">Lunar and Planetary Cartographic Catalog</div>\n",
      "</a>\n",
      "<div style=\"float:left;height:60px;\">\n",
      "</div>\n",
      "</div>\n",
      "<div class=\"full-content\">\n",
      "<section class=\"block\" id=\"results-accordian\">\n",
      "<div class=\"result-list\" data-section=\"product\" id=\"product-section\">\n",
      "<div class=\"accordian\">\n",
      "<h2>Products</h2>\n",
      "<span class=\"count\">4 Results</span>\n",
      "<span class=\"collapse\">Collapse</span>\n",
      "</div>\n",
      "<div class=\"collapsible results\">\n",
      "<div class=\"item\">\n",
      "<a class=\"itemLink product-item\" href=\"cerberus.html\"><img alt=\"Cerberus Hemisphere Enhanced thumbnail\" class=\"thumb\" src=\"images/39d3266553462198bd2fbc4d18fbed17_cerberus_enhanced.tif_thumb.png\"/></a>\n",
      "<div class=\"description\">\n",
      "<a class=\"itemLink product-item\" href=\"cerberus.html\">\n",
      "<h3>Cerberus Hemisphere Enhanced</h3>\n",
      "</a>\n",
      "<span class=\"subtitle\" style=\"float:left\">image/tiff 21 MB</span><span class=\"pubDate\" style=\"float:right\"></span><br/>\n",
      "<p>Mosaic of the Cerberus hemisphere of Mars projected into point perspective, a view similar to that which one would see from a spacecraft. This mosaic is composed of 104 Viking Orbiter images acquired…</p>\n",
      "</div>\n",
      "<!-- end description -->\n",
      "</div>\n",
      "<div class=\"item\">\n",
      "<a class=\"itemLink product-item\" href=\"schiaparelli.html\"><img alt=\"Schiaparelli Hemisphere Enhanced thumbnail\" class=\"thumb\" src=\"images/08eac6e22c07fb1fe72223a79252de20_schiaparelli_enhanced.tif_thumb.png\"/></a>\n",
      "<div class=\"description\">\n",
      "<a class=\"itemLink product-item\" href=\"schiaparelli.html\">\n",
      "<h3>Schiaparelli Hemisphere Enhanced</h3>\n",
      "</a>\n",
      "<span class=\"subtitle\" style=\"float:left\">image/tiff 35 MB</span><span class=\"pubDate\" style=\"float:right\"></span><br/>\n",
      "<p>Mosaic of the Schiaparelli hemisphere of Mars projected into point perspective, a view similar to that which one would see from a spacecraft. The images were acquired in 1980 during early northern…</p>\n",
      "</div>\n",
      "<!-- end description -->\n",
      "</div>\n",
      "<div class=\"item\">\n",
      "<a class=\"itemLink product-item\" href=\"syrtis.html\"><img alt=\"Syrtis Major Hemisphere Enhanced thumbnail\" class=\"thumb\" src=\"images/55a0a1e2796313fdeafb17c35925e8ac_syrtis_major_enhanced.tif_thumb.png\"/></a>\n",
      "<div class=\"description\">\n",
      "<a class=\"itemLink product-item\" href=\"syrtis.html\">\n",
      "<h3>Syrtis Major Hemisphere Enhanced</h3>\n",
      "</a>\n",
      "<span class=\"subtitle\" style=\"float:left\">image/tiff 25 MB</span><span class=\"pubDate\" style=\"float:right\"></span><br/>\n",
      "<p>Mosaic of the Syrtis Major hemisphere of Mars projected into point perspective, a view similar to that which one would see from a spacecraft. This mosaic is composed of about 100 red and violet…</p>\n",
      "</div>\n",
      "<!-- end description -->\n",
      "</div>\n",
      "<div class=\"item\">\n",
      "<a class=\"itemLink product-item\" href=\"valles.html\"><img alt=\"Valles Marineris Hemisphere Enhanced thumbnail\" class=\"thumb\" src=\"images/4e59980c1c57f89c680c0e1ccabbeff1_valles_marineris_enhanced.tif_thumb.png\"/></a>\n",
      "<div class=\"description\">\n",
      "<a class=\"itemLink product-item\" href=\"valles.html\">\n",
      "<h3>Valles Marineris Hemisphere Enhanced</h3>\n",
      "</a>\n",
      "<span class=\"subtitle\" style=\"float:left\">image/tiff 27 MB</span><span class=\"pubDate\" style=\"float:right\"></span><br/>\n",
      "<p>Mosaic of the Valles Marineris hemisphere of Mars projected into point perspective, a view similar to that which one would see from a spacecraft. The distance is 2500 kilometers from the surface of…</p>\n",
      "</div>\n",
      "<!-- end description -->\n",
      "</div>\n",
      "</div>\n",
      "<!-- end this-section -->\n",
      "</div>\n",
      "</section>\n",
      "</div>\n",
      "<div class=\"navigation clear\" style=\"display: none;\">\n",
      "<a class=\"itemLink product-item\" href=\"#\" onclick=\"showMain()\">\n",
      "<h3>Back</h3>\n",
      "</a>\n",
      "</div>\n",
      "</div>\n",
      "<footer>\n",
      "<div class=\"left\">\n",
      "<a href=\"#\">Search</a> |\n",
      "               <a href=\"#\">About</a> |\n",
      "               <a href=\"#\">Contact</a>\n",
      "</div>\n",
      "<div class=\"right\">\n",
      "<a href=\"#\">GUSS Science Center</a>\n",
      "</div>\n",
      "</footer>\n",
      "</div>\n",
      "<div class=\"page-background\" style=\"\n",
      "         background:url('./images/mars.jpg');\n",
      "         filter:progid:DXImageTransform.Microsoft.AlphaImageLoader(\n",
      "         src='./images/mars.jpg', sizingMethod='scale');\n",
      "         \"></div>\n",
      "<script type=\"text/javascript\">\n",
      "         var baseUrl = \"\";\n",
      "\n",
      "\n",
      "\n",
      "      </script>\n",
      "<script src=\"js/jquery.min.js\" type=\"text/javascript\"></script>\n",
      "<script src=\"js/jquery-ui.min.js\" type=\"text/javascript\"></script>\n",
      "<script src=\"js/general.js\" type=\"text/javascript\"></script>\n",
      "</body></html>\n"
     ]
    }
   ],
   "source": [
    "mhtml = browser.html\n",
    "print(mhtml)\n",
    "\n",
    "mh_soup = bs(mhtml,\"html.parser\")\n",
    "print(mh_soup)"
   ]
  },
  {
   "cell_type": "code",
   "execution_count": 9,
   "metadata": {},
   "outputs": [
    {
     "name": "stdout",
     "output_type": "stream",
     "text": [
      "Cerberus Hemisphere Enhanced\n",
      "https://marshemispheres.com/images/full.jpg\n",
      "Schiaparelli Hemisphere Enhanced\n",
      "https://marshemispheres.com/images/schiaparelli_enhanced-full.jpg\n",
      "Syrtis Major Hemisphere Enhanced\n",
      "https://marshemispheres.com/images/syrtis_major_enhanced-full.jpg\n",
      "Valles Marineris Hemisphere Enhanced\n",
      "https://marshemispheres.com/images/valles_marineris_enhanced-full.jpg\n"
     ]
    }
   ],
   "source": [
    "results = mh_soup.find_all(\"div\",class_='item')\n",
    "hemisphere_image_urls = []\n",
    "for result in results:\n",
    "        product_dict = {}\n",
    "        titles = result.find('h3').text\n",
    "        end_link = result.find(\"a\")[\"href\"]\n",
    "        image_link = \"https://marshemispheres.com/\" +end_link\n",
    "        browser.visit(image_link)\n",
    "        html = browser.html\n",
    "        soup= bs(html, \"html.parser\")\n",
    "        downloads = soup.find(\"div\", class_=\"downloads\")\n",
    "        image_url = downloads.find(\"a\")[\"href\"]\n",
    "        imageshow = \"https://marshemispheres.com/\" + image_url\n",
    "        print(titles)\n",
    "        print(imageshow)\n",
    "        product_dict['title']= titles\n",
    "        product_dict['imageshow']= imageshow\n",
    "        hemisphere_image_urls.append(product_dict)"
   ]
  },
  {
   "cell_type": "code",
   "execution_count": 6,
   "metadata": {},
   "outputs": [
    {
     "data": {
      "text/plain": [
       "[{'title': 'Cerberus Hemisphere Enhanced', 'image_url': 'images/full.jpg'},\n",
       " {'title': 'Schiaparelli Hemisphere Enhanced',\n",
       "  'image_url': 'images/schiaparelli_enhanced-full.jpg'},\n",
       " {'title': 'Syrtis Major Hemisphere Enhanced',\n",
       "  'image_url': 'images/syrtis_major_enhanced-full.jpg'},\n",
       " {'title': 'Valles Marineris Hemisphere Enhanced',\n",
       "  'image_url': 'images/valles_marineris_enhanced-full.jpg'}]"
      ]
     },
     "execution_count": 6,
     "metadata": {},
     "output_type": "execute_result"
    }
   ],
   "source": [
    "hemisphere_image_urls"
   ]
  },
  {
   "cell_type": "code",
   "execution_count": null,
   "metadata": {},
   "outputs": [],
   "source": []
  },
  {
   "cell_type": "code",
   "execution_count": null,
   "metadata": {},
   "outputs": [],
   "source": []
  }
 ],
 "metadata": {
  "kernelspec": {
   "display_name": "Python 3",
   "language": "python",
   "name": "python3"
  },
  "language_info": {
   "codemirror_mode": {
    "name": "ipython",
    "version": 3
   },
   "file_extension": ".py",
   "mimetype": "text/x-python",
   "name": "python",
   "nbconvert_exporter": "python",
   "pygments_lexer": "ipython3",
   "version": "3.6.10"
  }
 },
 "nbformat": 4,
 "nbformat_minor": 4
}
